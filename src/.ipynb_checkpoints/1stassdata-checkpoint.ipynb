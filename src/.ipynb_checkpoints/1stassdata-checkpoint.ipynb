{
 "cells": [
  {
   "cell_type": "code",
   "execution_count": 1,
   "metadata": {},
   "outputs": [
    {
     "name": "stderr",
     "output_type": "stream",
     "text": [
      "Using TensorFlow backend.\n"
     ]
    }
   ],
   "source": [
    "import keras\n",
    "from keras.datasets import mnist\n",
    "from keras.layers import Dense\n",
    "from keras.models import Sequential\n",
    "from matplotlib import pyplot as plt\n",
    "from random import randint\n",
    "import os\n",
    "from matplotlib.pyplot import imshow\n",
    "import scipy.ndimage\n",
    "import numpy as np\n",
    "from sklearn.model_selection import train_test_split\n",
    "import warnings\n",
    "warnings.filterwarnings(\"ignore\", category=FutureWarning)\n",
    "warnings.filterwarnings(\"ignore\", category=DeprecationWarning)\n",
    "from IPython.display import display\n",
    "from PIL import Image\n",
    "from sklearn import preprocessing\n"
   ]
  },
  {
   "cell_type": "code",
   "execution_count": 20,
   "metadata": {},
   "outputs": [],
   "source": []
  },
  {
   "cell_type": "code",
   "execution_count": 2,
   "metadata": {},
   "outputs": [],
   "source": [
    "def create_dense(num_classes,image_size,layer_sizes):\n",
    "    model = Sequential()\n",
    "    model.add(Dense(layer_sizes[0], activation='sigmoid', input_shape=(image_size,)))\n",
    "\n",
    "    for s in layer_sizes[1:]:\n",
    "        model.add(Dense(units = s, activation = 'sigmoid'))\n",
    "\n",
    "    model.add(Dense(units=num_classes, activation='softmax'))\n",
    "\n",
    "    return model\n",
    "\n",
    "def evaluate(x_train,x_test,y_train,y_test,model, batch_size=128, epochs=100):\n",
    "    model.summary()\n",
    "    model.compile(optimizer='sgd', loss='categorical_crossentropy', metrics=['accuracy'])\n",
    "    history = model.fit(x_train, y_train, batch_size=batch_size, epochs=epochs, validation_split=.1, verbose=False)\n",
    "    loss, accuracy  = model.evaluate(x_test, y_test, verbose=False)\n",
    "    \n",
    "    plt.plot(history.history['acc'])\n",
    "    plt.plot(history.history['val_acc'])\n",
    "    plt.title('model accuracy')\n",
    "    plt.ylabel('accuracy')\n",
    "    plt.xlabel('epoch')\n",
    "    plt.legend(['training', 'validation'], loc='best')\n",
    "    plt.show()\n",
    "\n",
    "    print()\n",
    "    print(f'Test loss: {loss:.3}')\n",
    "    print(f'Test accuracy: {accuracy:.3}')"
   ]
  },
  {
   "cell_type": "code",
   "execution_count": 44,
   "metadata": {},
   "outputs": [],
   "source": [
    "def MNIST():\n",
    "    labels = [0,1,2,3, 4,5,6,7,8,9];\n",
    "    #labels = [0,1];\n",
    "    X_raw = [];\n",
    "    Y = []\n",
    "    for label in labels:\n",
    "        dirName = '../data/MNIST/'+str(label);\n",
    "        imgList = os.listdir(dirName);\n",
    "        for img in imgList:\n",
    "            X_raw.append(scipy.ndimage.imread(os.path.join(dirName,img)));\n",
    "            Y.append(label);\n",
    "\n",
    "    X = [];\n",
    "    for x in X_raw:\n",
    "        X.append(x.flatten());\n",
    "    X = np.array(X);\n",
    "    Y = np.array(Y).reshape((X.shape[0],1));\n",
    "    YX = np.concatenate((Y,X),axis=1);\n",
    "\n",
    "\n",
    "    YX_train, YX_test = train_test_split(YX, train_size = 0.7);\n",
    "\n",
    "    X_train = YX_train[:,1:];\n",
    "    Y_train = YX_train[:,0].reshape((YX_train.shape[0],1));\n",
    "\n",
    "    X_test = YX_test[:,1:]\n",
    "    Y_test = YX_test[:,0].reshape((YX_test.shape[0],1))\n",
    "\n",
    "    enc = preprocessing.OneHotEncoder()\n",
    "    enc.fit(Y_train)  \n",
    "    Y_train = (enc.transform(Y_train).toarray())\n",
    "    Y_test = (enc.transform(Y_test).toarray())\n",
    "\n",
    "    #X_test = (X_test)/255\n",
    "    #X_train =(X_train)/255\n",
    "    return X_train,X_test,Y_train,Y_test\n",
    "\n"
   ]
  },
  {
   "cell_type": "code",
   "execution_count": 38,
   "metadata": {},
   "outputs": [
    {
     "name": "stdout",
     "output_type": "stream",
     "text": [
      "_________________________________________________________________\n",
      "Layer (type)                 Output Shape              Param #   \n",
      "=================================================================\n",
      "dense_51 (Dense)             (None, 32)                25120     \n",
      "_________________________________________________________________\n",
      "dense_52 (Dense)             (None, 32)                1056      \n",
      "_________________________________________________________________\n",
      "dense_53 (Dense)             (None, 10)                330       \n",
      "=================================================================\n",
      "Total params: 26,506\n",
      "Trainable params: 26,506\n",
      "Non-trainable params: 0\n",
      "_________________________________________________________________\n"
     ]
    },
    {
     "data": {
      "image/png": "[encoded data removed]",
      "text/plain": [
       "<Figure size 432x288 with 1 Axes>"
      ]
     },
     "metadata": {
      "needs_background": "light"
     },
     "output_type": "display_data"
    },
    {
     "name": "stdout",
     "output_type": "stream",
     "text": [
      "\n",
      "Test loss: 0.302\n",
      "Test accuracy: 0.911\n"
     ]
    }
   ],
   "source": [
    "#for layers in range(1, 5):\n",
    "X_train,X_test,Y_train,Y_test = MNIST()\n",
    "model = create_dense(10,784,[32] * 2)\n",
    "evaluate(X_train,X_test,Y_train,Y_test,model)"
   ]
  },
  {
   "cell_type": "code",
   "execution_count": 3,
   "metadata": {},
   "outputs": [],
   "source": [
    "# cat-dog\n",
    "\n",
    "def CatDog():\n",
    "    labels = [0, 1]\n",
    "\n",
    "    X_raw = []\n",
    "    Y = []\n",
    "    animals = ['cat','dog']\n",
    "    for label in range(2):\n",
    "        dirName = '../data/Cat-Dog/'+str(animals[label])\n",
    "        print(dirName)\n",
    "        imgList = os.listdir(dirName)\n",
    "        for img in imgList:\n",
    "            X_raw.append(plt.imread(os.path.join(dirName,img)))\n",
    "            Y.append(label)\n",
    "\n",
    "\n",
    "    X = [];\n",
    "    for x in X_raw:\n",
    "        X.append(x.flatten());\n",
    "    X = np.array(X);\n",
    "    Y = np.array(Y).reshape((X.shape[0],1));\n",
    "    YX = np.concatenate((Y,X),axis=1);\n",
    "\n",
    "\n",
    "    YX_train, YX_test = train_test_split(YX, train_size = 0.7);\n",
    "\n",
    "    X_train = YX_train[:,1:];\n",
    "    Y_train = YX_train[:,0].reshape((YX_train.shape[0],1));\n",
    "\n",
    "    X_test = YX_test[:,1:]\n",
    "    Y_test = YX_test[:,0].reshape((YX_test.shape[0],1))\n",
    "\n",
    "    enc = preprocessing.OneHotEncoder()\n",
    "    enc.fit(Y_train)  \n",
    "    Y_train = (enc.transform(Y_train).toarray())\n",
    "    Y_test = (enc.transform(Y_test).toarray())\n",
    "    return X_train,X_test,Y_train,Y_test"
   ]
  },
  {
   "cell_type": "code",
   "execution_count": 4,
   "metadata": {},
   "outputs": [
    {
     "name": "stdout",
     "output_type": "stream",
     "text": [
      "../data/Cat-Dog/cat\n",
      "../data/Cat-Dog/dog\n"
     ]
    }
   ],
   "source": [
    "X_train,X_test,Y_train,Y_test = CatDog()\n"
   ]
  },
  {
   "cell_type": "code",
   "execution_count": null,
   "metadata": {},
   "outputs": [
    {
     "name": "stdout",
     "output_type": "stream",
     "text": [
      "_________________________________________________________________\n",
      "Layer (type)                 Output Shape              Param #   \n",
      "=================================================================\n",
      "dense_16 (Dense)             (None, 1000)              120001000 \n",
      "_________________________________________________________________\n",
      "dense_17 (Dense)             (None, 64)                64064     \n",
      "_________________________________________________________________\n",
      "dense_18 (Dense)             (None, 2)                 130       \n",
      "=================================================================\n",
      "Total params: 120,065,194\n",
      "Trainable params: 120,065,194\n",
      "Non-trainable params: 0\n",
      "_________________________________________________________________\n"
     ]
    }
   ],
   "source": [
    "model = create_dense(2,120000,[1000,64])\n",
    "evaluate(X_train,X_test,Y_train,Y_test,model,epochs=100)"
   ]
  },
  {
   "cell_type": "code",
   "execution_count": 10,
   "metadata": {},
   "outputs": [],
   "source": [
    "import pandas as pd\n",
    "def data(train_data,train_label):\n",
    "    X = pd.read_csv(train_data,encoding = 'utf8',sep='\\s+',header=None)\n",
    "    y = pd.read_csv(train_label,encoding = 'utf8',sep='\\s+',header=None)\n",
    "    #df_train = pd.concat([ y_train, X_train],axis = 1)\n",
    "    \n",
    "    X_train, X_test, y_train, y_test = train_test_split(X, y, test_size=0.30, random_state=42)\n",
    "   \n",
    "\n",
    "    enc = preprocessing.OneHotEncoder()\n",
    "    enc.fit(y_train)  \n",
    "    Y_train = (enc.transform(y_train).toarray())\n",
    "    Y_test = (enc.transform(y_test).toarray())\n",
    "\n",
    "    \n",
    "    return X_train,X_test,Y_train,Y_test\n",
    "    \n",
    "    "
   ]
  },
  {
   "cell_type": "code",
   "execution_count": 11,
   "metadata": {},
   "outputs": [],
   "source": [
    "X_train,X_test,Y_train,Y_test = data('../data/dolphins/dolphins.csv','../data/dolphins/dolphins_label.csv')"
   ]
  },
  {
   "cell_type": "code",
   "execution_count": 13,
   "metadata": {},
   "outputs": [
    {
     "data": {
      "text/plain": [
       "(43, 32)"
      ]
     },
     "execution_count": 13,
     "metadata": {},
     "output_type": "execute_result"
    }
   ],
   "source": [
    "X_train.shape"
   ]
  },
  {
   "cell_type": "code",
   "execution_count": 30,
   "metadata": {},
   "outputs": [
    {
     "name": "stdout",
     "output_type": "stream",
     "text": [
      "_________________________________________________________________\n",
      "Layer (type)                 Output Shape              Param #   \n",
      "=================================================================\n",
      "dense_35 (Dense)             (None, 5)                 165       \n",
      "_________________________________________________________________\n",
      "dense_36 (Dense)             (None, 4)                 24        \n",
      "=================================================================\n",
      "Total params: 189\n",
      "Trainable params: 189\n",
      "Non-trainable params: 0\n",
      "_________________________________________________________________\n"
     ]
    },
    {
     "data": {
      "image/png": "[encoded data removed]",
      "text/plain": [
       "<Figure size 432x288 with 1 Axes>"
      ]
     },
     "metadata": {
      "needs_background": "light"
     },
     "output_type": "display_data"
    },
    {
     "name": "stdout",
     "output_type": "stream",
     "text": [
      "\n",
      "Test loss: 0.393\n",
      "Test accuracy: 0.947\n"
     ]
    }
   ],
   "source": [
    "model = create_dense(4,32,[5] )\n",
    "evaluate(X_train,X_test,Y_train,Y_test,model,epochs=10000)"
   ]
  },
  {
   "cell_type": "code",
   "execution_count": 31,
   "metadata": {},
   "outputs": [],
   "source": [
    "X_train,X_test,Y_train,Y_test = data('../data/pubmed/pubmed.csv','../data/pubmed/pubmed_label.csv')"
   ]
  },
  {
   "cell_type": "code",
   "execution_count": 42,
   "metadata": {},
   "outputs": [
    {
     "name": "stdout",
     "output_type": "stream",
     "text": [
      "_________________________________________________________________\n",
      "Layer (type)                 Output Shape              Param #   \n",
      "=================================================================\n",
      "dense_52 (Dense)             (None, 64)                8256      \n",
      "_________________________________________________________________\n",
      "dense_53 (Dense)             (None, 3)                 195       \n",
      "=================================================================\n",
      "Total params: 8,451\n",
      "Trainable params: 8,451\n",
      "Non-trainable params: 0\n",
      "_________________________________________________________________\n"
     ]
    },
    {
     "data": {
      "image/png": "[encoded data removed]",
      "text/plain": [
       "<Figure size 432x288 with 1 Axes>"
      ]
     },
     "metadata": {
      "needs_background": "light"
     },
     "output_type": "display_data"
    },
    {
     "name": "stdout",
     "output_type": "stream",
     "text": [
      "\n",
      "Test loss: 1.06\n",
      "Test accuracy: 0.439\n"
     ]
    }
   ],
   "source": [
    "model = create_dense(3,128,[64] )\n",
    "evaluate(X_train,X_test,Y_train,Y_test,model,epochs=1000)"
   ]
  },
  {
   "cell_type": "code",
   "execution_count": 43,
   "metadata": {},
   "outputs": [
    {
     "name": "stdout",
     "output_type": "stream",
     "text": [
      "_________________________________________________________________\n",
      "Layer (type)                 Output Shape              Param #   \n",
      "=================================================================\n",
      "dense_54 (Dense)             (None, 40)                5160      \n",
      "_________________________________________________________________\n",
      "dense_55 (Dense)             (None, 3)                 123       \n",
      "=================================================================\n",
      "Total params: 5,283\n",
      "Trainable params: 5,283\n",
      "Non-trainable params: 0\n",
      "_________________________________________________________________\n"
     ]
    },
    {
     "data": {
      "image/png": "[encoded data removed]",
      "text/plain": [
       "<Figure size 432x288 with 1 Axes>"
      ]
     },
     "metadata": {
      "needs_background": "light"
     },
     "output_type": "display_data"
    },
    {
     "name": "stdout",
     "output_type": "stream",
     "text": [
      "\n",
      "Test loss: 1.06\n",
      "Test accuracy: 0.437\n"
     ]
    }
   ],
   "source": [
    "model = create_dense(3,128,[40] )\n",
    "evaluate(X_train,X_test,Y_train,Y_test,model,epochs=1000)"
   ]
  },
  {
   "cell_type": "code",
   "execution_count": 36,
   "metadata": {},
   "outputs": [
    {
     "ename": "IndentationError",
     "evalue": "unexpected indent (<ipython-input-36-951bc356a378>, line 2)",
     "output_type": "error",
     "traceback": [
      "\u001b[0;36m  File \u001b[0;32m\"<ipython-input-36-951bc356a378>\"\u001b[0;36m, line \u001b[0;32m2\u001b[0m\n\u001b[0;31m    print(\"Nearest neighbor self created\")\u001b[0m\n\u001b[0m    ^\u001b[0m\n\u001b[0;31mIndentationError\u001b[0m\u001b[0;31m:\u001b[0m unexpected indent\n"
     ]
    }
   ],
   "source": [
    "accuracy,f1_scoremacro,f1_scoremicro = main(train_data,test_data,y_test)\n",
    "    print(\"Nearest neighbor self created\")\n",
    "    print(\"Test accuracy :: \",accuracy)\n",
    "    print(\"Test Macro F1-score :: \",f1_scoremacro)\n",
    "    print(\"Test Micro F1-score :: \",f1_scoremicro)"
   ]
  },
  {
   "cell_type": "code",
   "execution_count": null,
   "metadata": {},
   "outputs": [],
   "source": []
  }
 ],
 "metadata": {
  "kernelspec": {
   "display_name": "Python 3",
   "language": "python",
   "name": "python3"
  },
  "language_info": {
   "codemirror_mode": {
    "name": "ipython",
    "version": 3
   },
   "file_extension": ".py",
   "mimetype": "text/x-python",
   "name": "python",
   "nbconvert_exporter": "python",
   "pygments_lexer": "ipython3",
   "version": "3.6.8"
  }
 },
 "nbformat": 4,
 "nbformat_minor": 2
}
